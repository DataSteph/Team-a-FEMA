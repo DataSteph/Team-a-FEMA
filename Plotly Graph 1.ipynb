{
 "cells": [
  {
   "cell_type": "code",
   "execution_count": 1,
   "metadata": {},
   "outputs": [],
   "source": [
    "import pandas as pd\n",
    "from sqlalchemy import create_engine\n",
    "import pymysql\n",
    "pymysql.install_as_MySQLdb()\n",
    "\n",
    "from sqlalchemy import create_engine\n",
    "\n",
    "from sqlalchemy.ext.declarative import declarative_base\n",
    "Base = declarative_base()\n",
    "\n",
    "from sqlalchemy import Column, Integer, String, Float\n",
    "from sqlalchemy.orm import Session"
   ]
  },
  {
   "cell_type": "code",
   "execution_count": 2,
   "metadata": {},
   "outputs": [
    {
     "data": {
      "text/html": [
       "<div>\n",
       "<style scoped>\n",
       "    .dataframe tbody tr th:only-of-type {\n",
       "        vertical-align: middle;\n",
       "    }\n",
       "\n",
       "    .dataframe tbody tr th {\n",
       "        vertical-align: top;\n",
       "    }\n",
       "\n",
       "    .dataframe thead th {\n",
       "        text-align: right;\n",
       "    }\n",
       "</style>\n",
       "<table border=\"1\" class=\"dataframe\">\n",
       "  <thead>\n",
       "    <tr style=\"text-align: right;\">\n",
       "      <th></th>\n",
       "      <th>Name</th>\n",
       "      <th>Disaster</th>\n",
       "      <th>Begin Date</th>\n",
       "      <th>End Date</th>\n",
       "      <th>Cost</th>\n",
       "      <th>Deaths</th>\n",
       "      <th>Year</th>\n",
       "    </tr>\n",
       "  </thead>\n",
       "  <tbody>\n",
       "    <tr>\n",
       "      <th>0</th>\n",
       "      <td>Southeastern Severe Storms (March 2018)</td>\n",
       "      <td>Severe Storm</td>\n",
       "      <td>20180318</td>\n",
       "      <td>20180321</td>\n",
       "      <td>1310.0</td>\n",
       "      <td>3</td>\n",
       "      <td>2018</td>\n",
       "    </tr>\n",
       "    <tr>\n",
       "      <th>1</th>\n",
       "      <td>Northeast Winter Storm (March 2018)</td>\n",
       "      <td>Winter Storm</td>\n",
       "      <td>20180301</td>\n",
       "      <td>20180303</td>\n",
       "      <td>1770.0</td>\n",
       "      <td>9</td>\n",
       "      <td>2018</td>\n",
       "    </tr>\n",
       "    <tr>\n",
       "      <th>2</th>\n",
       "      <td>Central and Eastern Winter Storm (January 2018)</td>\n",
       "      <td>Winter Storm</td>\n",
       "      <td>20180103</td>\n",
       "      <td>20180105</td>\n",
       "      <td>1043.0</td>\n",
       "      <td>22</td>\n",
       "      <td>2018</td>\n",
       "    </tr>\n",
       "    <tr>\n",
       "      <th>3</th>\n",
       "      <td>Western Wildfires, California Firestorm (Summe...</td>\n",
       "      <td>Wildfire</td>\n",
       "      <td>20170601</td>\n",
       "      <td>20171231</td>\n",
       "      <td>18185.1</td>\n",
       "      <td>54</td>\n",
       "      <td>2017</td>\n",
       "    </tr>\n",
       "    <tr>\n",
       "      <th>4</th>\n",
       "      <td>North Dakota, South Dakota and Montana Drought...</td>\n",
       "      <td>Drought</td>\n",
       "      <td>20170301</td>\n",
       "      <td>20171231</td>\n",
       "      <td>2525.0</td>\n",
       "      <td>0</td>\n",
       "      <td>2017</td>\n",
       "    </tr>\n",
       "  </tbody>\n",
       "</table>\n",
       "</div>"
      ],
      "text/plain": [
       "                                                Name      Disaster  \\\n",
       "0            Southeastern Severe Storms (March 2018)  Severe Storm   \n",
       "1                Northeast Winter Storm (March 2018)  Winter Storm   \n",
       "2    Central and Eastern Winter Storm (January 2018)  Winter Storm   \n",
       "3  Western Wildfires, California Firestorm (Summe...      Wildfire   \n",
       "4  North Dakota, South Dakota and Montana Drought...       Drought   \n",
       "\n",
       "   Begin Date  End Date     Cost  Deaths  Year  \n",
       "0    20180318  20180321   1310.0       3  2018  \n",
       "1    20180301  20180303   1770.0       9  2018  \n",
       "2    20180103  20180105   1043.0      22  2018  \n",
       "3    20170601  20171231  18185.1      54  2017  \n",
       "4    20170301  20171231   2525.0       0  2017  "
      ]
     },
     "execution_count": 2,
     "metadata": {},
     "output_type": "execute_result"
    }
   ],
   "source": [
    "csvfile = pd.read_csv(\"data.csv\")\n",
    "csvfile.head()"
   ]
  },
  {
   "cell_type": "code",
   "execution_count": 3,
   "metadata": {},
   "outputs": [],
   "source": [
    "engine = create_engine(\"sqlite:///noaa.sqlite\")"
   ]
  },
  {
   "cell_type": "code",
   "execution_count": 4,
   "metadata": {},
   "outputs": [],
   "source": [
    "Base = declarative_base()"
   ]
  },
  {
   "cell_type": "code",
   "execution_count": 5,
   "metadata": {},
   "outputs": [],
   "source": [
    "class Disaster (Base):\n",
    "    __tablename__ = \"Disaster\"\n",
    "    id = Column(Integer, primary_key=True)\n",
    "    Name = Column(String)\n",
    "    Disaster = Column(String)\n",
    "    BeginDate = Column(String)\n",
    "    EndDate = Column(String)\n",
    "    Cost = Column(Integer)\n",
    "    Deaths = Column(Integer)\n",
    "    Year = Column(Float)\n",
    "    \n",
    "    def __repr__(self):\n",
    "        return f\"id={self.id}, name={self.Disaster}\""
   ]
  },
  {
   "cell_type": "code",
   "execution_count": 6,
   "metadata": {},
   "outputs": [],
   "source": [
    "Base.metadata.create_all(engine)"
   ]
  },
  {
   "cell_type": "code",
   "execution_count": 7,
   "metadata": {},
   "outputs": [
    {
     "data": {
      "text/plain": [
       "['Disaster']"
      ]
     },
     "execution_count": 7,
     "metadata": {},
     "output_type": "execute_result"
    }
   ],
   "source": [
    "engine.table_names()"
   ]
  },
  {
   "cell_type": "code",
   "execution_count": 8,
   "metadata": {},
   "outputs": [],
   "source": [
    "def populate_table(engine, table, csvfile):\n",
    "    conn = engine.connect()\n",
    "    df_of_data_to_insert = pd.read_csv(csvfile)\n",
    "    noaadata = df_of_data_to_insert.to_dict(orient='records')\n",
    "    conn.execute(table.delete())\n",
    "    conn.execute(table.insert(), noaadata)\n",
    "populate_table(engine, Disaster.__table__, 'data.csv')\n"
   ]
  },
  {
   "cell_type": "code",
   "execution_count": 9,
   "metadata": {},
   "outputs": [
    {
     "data": {
      "text/plain": [
       "[(1, 'Southeastern Severe Storms (March 2018)', 'Severe Storm', None, None, 1310, 3, 2018.0)]"
      ]
     },
     "execution_count": 9,
     "metadata": {},
     "output_type": "execute_result"
    }
   ],
   "source": [
    "engine.execute(\"SELECT * FROM Disaster LIMIT 1\").fetchall()"
   ]
  },
  {
   "cell_type": "code",
   "execution_count": null,
   "metadata": {},
   "outputs": [],
   "source": []
  }
 ],
 "metadata": {
  "kernelspec": {
   "display_name": "Python [conda env:PythonData]",
   "language": "python",
   "name": "conda-env-PythonData-py"
  },
  "language_info": {
   "codemirror_mode": {
    "name": "ipython",
    "version": 3
   },
   "file_extension": ".py",
   "mimetype": "text/x-python",
   "name": "python",
   "nbconvert_exporter": "python",
   "pygments_lexer": "ipython3",
   "version": "3.6.4"
  }
 },
 "nbformat": 4,
 "nbformat_minor": 2
}
